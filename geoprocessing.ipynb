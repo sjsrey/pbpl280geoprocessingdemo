{
 "cells": [
  {
   "cell_type": "code",
   "execution_count": null,
   "id": "4395dd47",
   "metadata": {},
   "outputs": [],
   "source": [
    "import geopandas as gpd\n",
    "import libpysal as lps\n",
    "import seaborn as sns\n",
    "import numpy as np\n",
    "import tobler as tob\n",
    "import matplotlib.pyplot as plt\n",
    "plt.rcParams['figure.figsize'] = [20, 10]"
   ]
  },
  {
   "cell_type": "code",
   "execution_count": null,
   "id": "8195538f",
   "metadata": {},
   "outputs": [],
   "source": [
    "schools = gpd.read_file('schools.shp')"
   ]
  },
  {
   "cell_type": "code",
   "execution_count": null,
   "id": "7a7cf658",
   "metadata": {},
   "outputs": [],
   "source": [
    "schools.plot()"
   ]
  },
  {
   "cell_type": "code",
   "execution_count": null,
   "id": "6d7d04d6",
   "metadata": {},
   "outputs": [],
   "source": [
    "schools.head()"
   ]
  },
  {
   "cell_type": "code",
   "execution_count": null,
   "id": "aeddcb50",
   "metadata": {},
   "outputs": [],
   "source": [
    "schools.plot(column='test_score', legend=True)"
   ]
  },
  {
   "cell_type": "code",
   "execution_count": null,
   "id": "e0c7f27e",
   "metadata": {},
   "outputs": [],
   "source": [
    "env = gpd.read_file('env.shp')"
   ]
  },
  {
   "cell_type": "code",
   "execution_count": null,
   "id": "13515471",
   "metadata": {},
   "outputs": [],
   "source": [
    "env.plot()"
   ]
  },
  {
   "cell_type": "code",
   "execution_count": null,
   "id": "3d44b5fd",
   "metadata": {},
   "outputs": [],
   "source": [
    "env.plot(column='escore', cmap='Greens', scheme='Quantiles', k=3,edgecolor='grey',\n",
    "        legend=True)"
   ]
  },
  {
   "cell_type": "code",
   "execution_count": null,
   "id": "530ee957",
   "metadata": {},
   "outputs": [],
   "source": [
    "dem = gpd.read_file('demo.shp')"
   ]
  },
  {
   "cell_type": "code",
   "execution_count": null,
   "id": "5283e399",
   "metadata": {},
   "outputs": [],
   "source": [
    "dem.head()"
   ]
  },
  {
   "cell_type": "code",
   "execution_count": null,
   "id": "2cb9f5ee",
   "metadata": {},
   "outputs": [],
   "source": [
    "dem.plot(column='pctb', scheme='Quantiles', k=5, legend=True)"
   ]
  },
  {
   "cell_type": "markdown",
   "id": "b9ddca68",
   "metadata": {},
   "source": [
    "# Overlays"
   ]
  },
  {
   "cell_type": "code",
   "execution_count": null,
   "id": "cb8c0139",
   "metadata": {},
   "outputs": [],
   "source": [
    "base = dem.geometry.boundary.plot(edgecolor='blue')\n",
    "env.geometry.boundary.plot(ax=base, edgecolor='green')\n",
    "schools.plot(color='red', ax=base)"
   ]
  },
  {
   "cell_type": "markdown",
   "id": "9534c4f0",
   "metadata": {},
   "source": [
    "## Issues: Data Integration and Change of Support\n",
    "\n",
    "We have three sources of data\n",
    "\n",
    "- 40 census block groups with white/black population counts (blue polygons)\n",
    "- 20 environmental monitoring zones with measurements of envl quality (green polygons)\n",
    "- 10  schools with x,y addresses and test scores (red points)"
   ]
  },
  {
   "cell_type": "markdown",
   "id": "74c033cd",
   "metadata": {},
   "source": [
    "## Objective\n",
    "\n",
    "Explore relationship between school test score and environmental quality and racial composition of neighborhoods"
   ]
  },
  {
   "cell_type": "markdown",
   "id": "b7fa3d7c",
   "metadata": {},
   "source": [
    "## Tasks\n",
    "1. Construct values of environmental quality for each school\n",
    "2. Construct racial composition measure for each school\n",
    "3. Explore associations of interest"
   ]
  },
  {
   "cell_type": "markdown",
   "id": "75a59bef",
   "metadata": {},
   "source": [
    "### Environmental Quality for the Schools\n",
    "\n",
    "Two approaches:\n",
    "    \n",
    " 1. Take the value for the environmental zone that contains the school (1-1)\n",
    " 2. Consruct a value that represents the environmental quality in the neighborhoods closes to the school (1-many)"
   ]
  },
  {
   "cell_type": "markdown",
   "id": "be13ae6e",
   "metadata": {},
   "source": [
    "#### Approach 1 Spatial Join"
   ]
  },
  {
   "cell_type": "code",
   "execution_count": null,
   "id": "7c5d6cd3",
   "metadata": {},
   "outputs": [],
   "source": [
    "base  = env.plot(column='escore', legend=True)\n",
    "schools.plot(color='red', ax=base)"
   ]
  },
  {
   "cell_type": "code",
   "execution_count": null,
   "id": "267e23e5",
   "metadata": {},
   "outputs": [],
   "source": [
    "schools_escore1 = gpd.sjoin(schools, env, how='left', op='within')"
   ]
  },
  {
   "cell_type": "code",
   "execution_count": null,
   "id": "75a01085",
   "metadata": {},
   "outputs": [],
   "source": [
    "schools_escore1"
   ]
  },
  {
   "cell_type": "code",
   "execution_count": null,
   "id": "ea8f71e1",
   "metadata": {},
   "outputs": [],
   "source": [
    "schools['escore1'] = schools_escore1.escore"
   ]
  },
  {
   "cell_type": "code",
   "execution_count": null,
   "id": "56ef1c2e",
   "metadata": {},
   "outputs": [],
   "source": [
    "schools.head()"
   ]
  },
  {
   "cell_type": "markdown",
   "id": "02d69584",
   "metadata": {},
   "source": [
    "#### Approach 2 Areal Interpolation"
   ]
  },
  {
   "cell_type": "code",
   "execution_count": null,
   "id": "99ae2826",
   "metadata": {},
   "outputs": [],
   "source": [
    "x = schools.geometry.x\n",
    "y = schools.geometry.y\n",
    "cents = np.array([x,y]).T\n",
    "cents"
   ]
  },
  {
   "cell_type": "code",
   "execution_count": null,
   "id": "13da990c",
   "metadata": {},
   "outputs": [],
   "source": [
    "schools_vd, school_cents = lps.cg.voronoi_frames(cents)"
   ]
  },
  {
   "cell_type": "code",
   "execution_count": null,
   "id": "7241f97d",
   "metadata": {},
   "outputs": [],
   "source": [
    "base = schools_vd.plot()\n",
    "schools.plot(ax=base, color='red')"
   ]
  },
  {
   "cell_type": "code",
   "execution_count": null,
   "id": "e2b38d43",
   "metadata": {},
   "outputs": [],
   "source": [
    "base = env.geometry.boundary.plot(edgecolor='green')\n",
    "schools_vd.plot(ax=base)\n",
    "schools.plot(ax=base, color='red')"
   ]
  },
  {
   "cell_type": "code",
   "execution_count": null,
   "id": "5e57cbee",
   "metadata": {},
   "outputs": [],
   "source": [
    "schools_vd, school_cents = lps.cg.voronoi_frames(cents, clip = env.unary_union)"
   ]
  },
  {
   "cell_type": "code",
   "execution_count": null,
   "id": "569c836a",
   "metadata": {},
   "outputs": [],
   "source": [
    "base = env.geometry.boundary.plot(edgecolor='green')\n",
    "schools_vd.plot(ax=base)\n",
    "schools.plot(ax=base, color='red')"
   ]
  },
  {
   "cell_type": "code",
   "execution_count": null,
   "id": "36b1adc7",
   "metadata": {},
   "outputs": [],
   "source": [
    "base = env.plot(column='escore')\n",
    "schools_vd.geometry.boundary.plot(ax=base, edgecolor='red')\n",
    "schools.plot(ax=base, color='red')"
   ]
  },
  {
   "cell_type": "markdown",
   "id": "64f588ed",
   "metadata": {},
   "source": [
    "Estimate the escore for a school using areal interpolation"
   ]
  },
  {
   "cell_type": "code",
   "execution_count": null,
   "id": "2fc14851",
   "metadata": {},
   "outputs": [],
   "source": [
    "escore = tob.area_weighted.area_interpolate(source_df=env,\n",
    "                                           target_df=schools_vd,\n",
    "                                           intensive_variables=['escore'])"
   ]
  },
  {
   "cell_type": "code",
   "execution_count": null,
   "id": "9ff3b83a",
   "metadata": {},
   "outputs": [],
   "source": [
    "escore"
   ]
  },
  {
   "cell_type": "code",
   "execution_count": null,
   "id": "dd5437af",
   "metadata": {},
   "outputs": [],
   "source": [
    "base = escore.plot(column='escore')\n",
    "schools.plot(ax=base, color='red')"
   ]
  },
  {
   "cell_type": "code",
   "execution_count": null,
   "id": "0bcb3585",
   "metadata": {},
   "outputs": [],
   "source": [
    "schools['escore2'] = escore.escore"
   ]
  },
  {
   "cell_type": "code",
   "execution_count": null,
   "id": "83fe8f72",
   "metadata": {},
   "outputs": [],
   "source": [
    "schools.head()"
   ]
  },
  {
   "cell_type": "code",
   "execution_count": null,
   "id": "f62fb8ed",
   "metadata": {},
   "outputs": [],
   "source": [
    "sns.scatterplot(data=schools, x=\"escore1\", y=\"escore2\")"
   ]
  },
  {
   "cell_type": "code",
   "execution_count": null,
   "id": "e45d8155",
   "metadata": {},
   "outputs": [],
   "source": [
    "sns.scatterplot(data=schools, x=\"escore1\", y=\"test_score\")"
   ]
  },
  {
   "cell_type": "code",
   "execution_count": null,
   "id": "01d5a0cb",
   "metadata": {},
   "outputs": [],
   "source": [
    "sns.scatterplot(data=schools, x=\"escore2\", y=\"test_score\")"
   ]
  },
  {
   "cell_type": "markdown",
   "id": "6367d077",
   "metadata": {},
   "source": [
    "### Racial Composition of the Schools\n",
    "\n",
    "Two approaches:\n",
    "    \n",
    " 1. Take the value for the block group  that contains the school (1-1)\n",
    " 2. Consruct a value that represents the racial composition  in the neighborhoods closes to the school (1-many)"
   ]
  },
  {
   "cell_type": "code",
   "execution_count": null,
   "id": "e281d042",
   "metadata": {},
   "outputs": [],
   "source": [
    "base = dem.plot(column='pctb', scheme='Quantiles', k=5, legend=True)\n",
    "schools.plot(ax=base, color='red')"
   ]
  },
  {
   "cell_type": "markdown",
   "id": "3ae4bb85",
   "metadata": {},
   "source": [
    "#### Approach 1 spatial join"
   ]
  },
  {
   "cell_type": "code",
   "execution_count": null,
   "id": "254f3ffc",
   "metadata": {},
   "outputs": [],
   "source": [
    "pctb1 = gpd.sjoin(schools, dem, how='left', op='within')"
   ]
  },
  {
   "cell_type": "code",
   "execution_count": null,
   "id": "fd34dc54",
   "metadata": {},
   "outputs": [],
   "source": [
    "pctb1.head()"
   ]
  },
  {
   "cell_type": "code",
   "execution_count": null,
   "id": "d966a7bd",
   "metadata": {},
   "outputs": [],
   "source": [
    "schools_vd['pctb1'] = pctb1.pctb\n",
    "schools['pctb1'] = pctb1.pctb"
   ]
  },
  {
   "cell_type": "code",
   "execution_count": null,
   "id": "86dff050",
   "metadata": {},
   "outputs": [],
   "source": [
    "base = schools_vd.plot(column='pctb1')\n",
    "schools.plot(ax=base, color='red')"
   ]
  },
  {
   "cell_type": "markdown",
   "id": "7c1abb0e",
   "metadata": {},
   "source": [
    "#### Approach 2 areal interpolation"
   ]
  },
  {
   "cell_type": "code",
   "execution_count": null,
   "id": "cbae451e",
   "metadata": {},
   "outputs": [],
   "source": [
    "results = tob.area_weighted.area_interpolate(source_df=dem,\n",
    "                                           target_df=schools_vd,\n",
    "                                           intensive_variables=['pctb', 'pctw'],\n",
    "                                            extensive_variables=['white', 'black'])"
   ]
  },
  {
   "cell_type": "code",
   "execution_count": null,
   "id": "3bc02fd4",
   "metadata": {},
   "outputs": [],
   "source": [
    "results.head()"
   ]
  },
  {
   "cell_type": "code",
   "execution_count": null,
   "id": "38d2fff1",
   "metadata": {},
   "outputs": [],
   "source": [
    "results['pctb1'] = results.black / (results.white + results.black)"
   ]
  },
  {
   "cell_type": "code",
   "execution_count": null,
   "id": "ca806361",
   "metadata": {},
   "outputs": [],
   "source": [
    "results[['pctb', 'pctb1']].head()"
   ]
  },
  {
   "cell_type": "code",
   "execution_count": null,
   "id": "8c9d52de",
   "metadata": {},
   "outputs": [],
   "source": [
    "schools['pctb2e'] = results.pctb\n",
    "schools['pctb2i'] = results.pctb1"
   ]
  },
  {
   "cell_type": "code",
   "execution_count": null,
   "id": "1d14977c",
   "metadata": {},
   "outputs": [],
   "source": [
    "schools[['pctb1','pctb2i', 'pctb2e' ]].head()"
   ]
  },
  {
   "cell_type": "code",
   "execution_count": null,
   "id": "4cfdb951",
   "metadata": {},
   "outputs": [],
   "source": [
    "sns.scatterplot(data=schools, x=\"pctb2e\", y=\"test_score\")"
   ]
  },
  {
   "cell_type": "code",
   "execution_count": null,
   "id": "f08ff2e6",
   "metadata": {},
   "outputs": [],
   "source": [
    "sns.scatterplot(data=schools, x=\"pctb1\", y=\"test_score\")"
   ]
  },
  {
   "cell_type": "code",
   "execution_count": null,
   "id": "91393deb",
   "metadata": {},
   "outputs": [],
   "source": [
    "schools.head()"
   ]
  },
  {
   "cell_type": "code",
   "execution_count": null,
   "id": "1fcd9c60",
   "metadata": {},
   "outputs": [],
   "source": [
    "schools_vd['test_score'] = schools.test_score\n",
    "base = schools_vd.plot(column='test_score')\n",
    "schools.plot(ax=base, color='red')"
   ]
  },
  {
   "cell_type": "code",
   "execution_count": null,
   "id": "dc64057a",
   "metadata": {},
   "outputs": [],
   "source": []
  }
 ],
 "metadata": {
  "kernelspec": {
   "display_name": "Python 3",
   "language": "python",
   "name": "python3"
  },
  "language_info": {
   "codemirror_mode": {
    "name": "ipython",
    "version": 3
   },
   "file_extension": ".py",
   "mimetype": "text/x-python",
   "name": "python",
   "nbconvert_exporter": "python",
   "pygments_lexer": "ipython3",
   "version": "3.7.3"
  }
 },
 "nbformat": 4,
 "nbformat_minor": 5
}
