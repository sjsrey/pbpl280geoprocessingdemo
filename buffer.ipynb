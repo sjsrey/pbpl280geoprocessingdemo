{
 "cells": [
  {
   "cell_type": "code",
   "execution_count": null,
   "id": "29dfbb27",
   "metadata": {},
   "outputs": [],
   "source": [
    "import geopandas as gpd\n",
    "import libpysal as lps\n",
    "import seaborn as sns\n",
    "import numpy as np\n",
    "import tobler as tob\n",
    "import matplotlib.pyplot as plt\n",
    "plt.rcParams['figure.figsize'] = [20, 10]"
   ]
  },
  {
   "cell_type": "code",
   "execution_count": null,
   "id": "f32e65b0",
   "metadata": {},
   "outputs": [],
   "source": [
    "schools = gpd.read_file('schools.shp')"
   ]
  },
  {
   "cell_type": "code",
   "execution_count": null,
   "id": "a760e93e",
   "metadata": {},
   "outputs": [],
   "source": [
    "schools.plot()"
   ]
  },
  {
   "cell_type": "code",
   "execution_count": null,
   "id": "75bd90de",
   "metadata": {},
   "outputs": [],
   "source": [
    "schools.head()"
   ]
  },
  {
   "cell_type": "code",
   "execution_count": null,
   "id": "cc0cd752",
   "metadata": {},
   "outputs": [],
   "source": [
    "schools.plot(column='test_score', legend=True)"
   ]
  },
  {
   "cell_type": "code",
   "execution_count": null,
   "id": "1646c200",
   "metadata": {},
   "outputs": [],
   "source": [
    "dem = gpd.read_file('demo.shp')"
   ]
  },
  {
   "cell_type": "code",
   "execution_count": null,
   "id": "c516b54e",
   "metadata": {},
   "outputs": [],
   "source": [
    "dem.head()"
   ]
  },
  {
   "cell_type": "code",
   "execution_count": null,
   "id": "cc59cb4c",
   "metadata": {},
   "outputs": [],
   "source": [
    "dem.plot(column='pctb', scheme='Quantiles', k=5, legend=True)"
   ]
  },
  {
   "cell_type": "markdown",
   "id": "faad9b2e",
   "metadata": {},
   "source": [
    "# Overlays"
   ]
  },
  {
   "cell_type": "code",
   "execution_count": null,
   "id": "a1bf30ed",
   "metadata": {},
   "outputs": [],
   "source": [
    "base = dem.geometry.boundary.plot(edgecolor='blue')\n",
    "schools.plot(color='red', ax=base)"
   ]
  },
  {
   "cell_type": "markdown",
   "id": "e7a3ffd6",
   "metadata": {},
   "source": [
    "## Equity Anaysis: Are there disparities in access to schools?\n",
    "\n",
    "Who has better access (w or b)?"
   ]
  },
  {
   "cell_type": "code",
   "execution_count": null,
   "id": "6b99c5ff",
   "metadata": {},
   "outputs": [],
   "source": [
    "school_buffer = gpd.GeoDataFrame(geometry=schools.geometry.buffer(1))"
   ]
  },
  {
   "cell_type": "code",
   "execution_count": null,
   "id": "768fc52f",
   "metadata": {},
   "outputs": [],
   "source": [
    "base = school_buffer.plot()\n",
    "schools.plot(ax=base, color='red')"
   ]
  },
  {
   "cell_type": "code",
   "execution_count": null,
   "id": "10c164ff",
   "metadata": {},
   "outputs": [],
   "source": [
    "base = dem.plot(column='pctb')\n",
    "school_buffer.plot(ax=base, alpha=0.5,color='grey')\n",
    "schools.plot(ax=base, color='red')"
   ]
  },
  {
   "cell_type": "code",
   "execution_count": null,
   "id": "fdc8d541",
   "metadata": {},
   "outputs": [],
   "source": [
    "dem_diff = gpd.overlay(dem, school_buffer, how='difference')"
   ]
  },
  {
   "cell_type": "code",
   "execution_count": null,
   "id": "127448fd",
   "metadata": {},
   "outputs": [],
   "source": [
    "dem_diff.plot()"
   ]
  },
  {
   "cell_type": "code",
   "execution_count": null,
   "id": "10e0f8d1",
   "metadata": {},
   "outputs": [],
   "source": [
    "dem_diff.shape"
   ]
  },
  {
   "cell_type": "code",
   "execution_count": null,
   "id": "34c602f8",
   "metadata": {},
   "outputs": [],
   "source": [
    "dem_out = tob.area_weighted.area_interpolate(source_df=dem,\n",
    "                                           target_df=dem_diff,\n",
    "                                           extensive_variables=['white', 'black'])"
   ]
  },
  {
   "cell_type": "code",
   "execution_count": null,
   "id": "2f89abb6",
   "metadata": {},
   "outputs": [],
   "source": []
  },
  {
   "cell_type": "code",
   "execution_count": null,
   "id": "c7d65630",
   "metadata": {},
   "outputs": [],
   "source": [
    "dem_out.sum()"
   ]
  },
  {
   "cell_type": "code",
   "execution_count": null,
   "id": "6fc4a430",
   "metadata": {},
   "outputs": [],
   "source": [
    "dem[['white', 'black']].sum()"
   ]
  },
  {
   "cell_type": "code",
   "execution_count": null,
   "id": "cace8e3c",
   "metadata": {},
   "outputs": [],
   "source": [
    "dem_in = dem[['white', 'black']].sum() - dem_out.sum().astype(int)"
   ]
  },
  {
   "cell_type": "code",
   "execution_count": null,
   "id": "d6074554",
   "metadata": {},
   "outputs": [],
   "source": [
    "dem_in"
   ]
  },
  {
   "cell_type": "code",
   "execution_count": null,
   "id": "6a26c5d4",
   "metadata": {},
   "outputs": [],
   "source": [
    "dem_in / dem[['white', 'black']].sum()"
   ]
  },
  {
   "cell_type": "code",
   "execution_count": null,
   "id": "e52d5d4d",
   "metadata": {},
   "outputs": [],
   "source": [
    "dem_in['total'] = dem_in.white + dem_in.black"
   ]
  },
  {
   "cell_type": "code",
   "execution_count": null,
   "id": "493702fc",
   "metadata": {},
   "outputs": [],
   "source": [
    "dem.white.sum()/ dem.total.sum()"
   ]
  },
  {
   "cell_type": "code",
   "execution_count": null,
   "id": "bca6ed3f",
   "metadata": {},
   "outputs": [],
   "source": [
    "dem_in.white.sum() / dem_in.total.sum()"
   ]
  },
  {
   "cell_type": "code",
   "execution_count": null,
   "id": "0e51c2d7",
   "metadata": {},
   "outputs": [],
   "source": []
  }
 ],
 "metadata": {
  "kernelspec": {
   "display_name": "Python 3",
   "language": "python",
   "name": "python3"
  },
  "language_info": {
   "codemirror_mode": {
    "name": "ipython",
    "version": 3
   },
   "file_extension": ".py",
   "mimetype": "text/x-python",
   "name": "python",
   "nbconvert_exporter": "python",
   "pygments_lexer": "ipython3",
   "version": "3.7.3"
  }
 },
 "nbformat": 4,
 "nbformat_minor": 5
}
